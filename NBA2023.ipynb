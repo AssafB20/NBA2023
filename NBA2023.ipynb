{
 "cells": [
  {
   "cell_type": "code",
   "execution_count": null,
   "id": "62093638",
   "metadata": {
    "scrolled": true
   },
   "outputs": [],
   "source": [
    "url = 'https://www.basketball-reference.com/leagues/NBA_2023_standings.html#all_confs_standings_E'"
   ]
  },
  {
   "cell_type": "code",
   "execution_count": null,
   "id": "159447e1",
   "metadata": {},
   "outputs": [],
   "source": [
    "import requests\n",
    "\n",
    "data = requests.get(url)\n",
    "\n",
    "with open(\"stats.html\", \"w+\") as f:\n",
    "        f.write(data.text)"
   ]
  },
  {
   "cell_type": "code",
   "execution_count": null,
   "id": "737a5537",
   "metadata": {},
   "outputs": [],
   "source": [
    "from bs4 import BeautifulSoup "
   ]
  },
  {
   "cell_type": "code",
   "execution_count": null,
   "id": "55fe78a9",
   "metadata": {},
   "outputs": [],
   "source": [
    "with open(\"stats.html\") as f:\n",
    "    page = f.read()\n",
    "    \n",
    "soup = BeautifulSoup(page, 'html.parser')"
   ]
  },
  {
   "cell_type": "code",
   "execution_count": null,
   "id": "6700fafd",
   "metadata": {},
   "outputs": [],
   "source": [
    "confs_standings_E = soup.find(id='confs_standings_E')\n",
    "confs_standings_W = soup.find(id='confs_standings_W')"
   ]
  },
  {
   "cell_type": "code",
   "execution_count": null,
   "id": "a0e59126",
   "metadata": {},
   "outputs": [],
   "source": [
    "import pandas as pd"
   ]
  },
  {
   "cell_type": "code",
   "execution_count": null,
   "id": "bf724615",
   "metadata": {},
   "outputs": [],
   "source": [
    "confs_standings = pd.read_html(str(confs_standings_E) + str(confs_standings_W))\n",
    "#confs_standings_W = pd.read_html(str(confs_standings_W))"
   ]
  },
  {
   "cell_type": "code",
   "execution_count": null,
   "id": "5c1ad9a0",
   "metadata": {},
   "outputs": [],
   "source": [
    "df_E = confs_standings[0]\n",
    "df_W = confs_standings[1]\n",
    "df_E.rename({'Eastern Conference': 'Team'}, axis=1, inplace=True)\n",
    "df_W.rename({'Western Conference': 'Team'}, axis=1, inplace=True)"
   ]
  },
  {
   "cell_type": "code",
   "execution_count": null,
   "id": "98e638be",
   "metadata": {
    "scrolled": true
   },
   "outputs": [],
   "source": [
    "df_all = pd.concat([df_E, df_W], axis=0)\n",
    "df_all.reset_index(drop=True, inplace=True)\n",
    "df_all"
   ]
  },
  {
   "cell_type": "code",
   "execution_count": null,
   "id": "8f52a95e",
   "metadata": {},
   "outputs": [],
   "source": [
    "#df_all.loc[df_all.Team == 'Boston Celtics  (1)']\n",
    "\n",
    "df_all['Team'] = df_all['Team'].str.split()"
   ]
  },
  {
   "cell_type": "code",
   "execution_count": null,
   "id": "bb91b3f0",
   "metadata": {},
   "outputs": [],
   "source": [
    "for index, row in df_all.iterrows():\n",
    "    df_all['Team'][index] = df_all['Team'][index][-2]"
   ]
  },
  {
   "cell_type": "code",
   "execution_count": null,
   "id": "22fdf0d2",
   "metadata": {},
   "outputs": [],
   "source": [
    "df = df_all[['Team','W','L']]"
   ]
  },
  {
   "cell_type": "code",
   "execution_count": null,
   "id": "a9d21721",
   "metadata": {},
   "outputs": [],
   "source": [
    "Assaf = {'W':['Warriors','Lakers','76ers','Hawks'],'L':['Pistons','Hornets'], 'score':'', 'name':'Assaf'}\n",
    "Iddo = {'W':['Bucks','Celtics','Suns','Bulls'], 'L':['Jazz','Kings'], 'score':'','name':'Iddo'}\n",
    "Liad = {'W': ['Cavaliers','Nets','Rapators','Pelicans'],'L':['Rockets','Thunder'], 'score':'','name':'Liad'}\n",
    "Yaniv = {'W':['Nuggets','Maverics','Wolves'],'L':['Spurs','Magic','Knicks'], 'score':'','name':'Yaniv'}\n",
    "Berger = {'W':['Grizzlies','Clippers','Heat'],'L':['Pacers','Wizards','Blazers'], 'score':'','name':'Berger'}"
   ]
  },
  {
   "cell_type": "code",
   "execution_count": null,
   "id": "2c92be3e",
   "metadata": {},
   "outputs": [],
   "source": [
    "names = [Assaf, Iddo, Liad, Yaniv, Berger]\n",
    "names"
   ]
  },
  {
   "cell_type": "code",
   "execution_count": null,
   "id": "97c31dcb",
   "metadata": {},
   "outputs": [],
   "source": [
    "for name in names:\n",
    "    name['score'] = df.loc[df['Team'].isin(name['W']),['W']].sum(axis=0)[0] + df.loc[df['Team'].isin(name['L']),['L']].sum(axis=0)[0]\n",
    "    print(str(name['name'])+ ' ' + str(name['score']))"
   ]
  }
 ],
 "metadata": {
  "kernelspec": {
   "display_name": "Python 3 (ipykernel)",
   "language": "python",
   "name": "python3"
  },
  "language_info": {
   "codemirror_mode": {
    "name": "ipython",
    "version": 3
   },
   "file_extension": ".py",
   "mimetype": "text/x-python",
   "name": "python",
   "nbconvert_exporter": "python",
   "pygments_lexer": "ipython3",
   "version": "3.9.13"
  }
 },
 "nbformat": 4,
 "nbformat_minor": 5
}
